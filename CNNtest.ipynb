{
  "nbformat": 4,
  "nbformat_minor": 0,
  "metadata": {
    "colab": {
      "name": "CNNtest.ipynb",
      "provenance": [],
      "private_outputs": true,
      "collapsed_sections": [],
      "include_colab_link": true
    },
    "kernelspec": {
      "name": "python3",
      "display_name": "Python 3"
    },
    "accelerator": "GPU"
  },
  "cells": [
    {
      "cell_type": "markdown",
      "metadata": {
        "id": "view-in-github",
        "colab_type": "text"
      },
      "source": [
        "<a href=\"https://colab.research.google.com/github/qwellk/googlecolab/blob/master/CNNtest.ipynb\" target=\"_parent\"><img src=\"https://colab.research.google.com/assets/colab-badge.svg\" alt=\"Open In Colab\"/></a>"
      ]
    },
    {
      "cell_type": "markdown",
      "metadata": {
        "id": "1sSA9rGta1il",
        "colab_type": "text"
      },
      "source": [
        "CNN TEST"
      ]
    },
    {
      "cell_type": "code",
      "metadata": {
        "id": "ErdpuC-Gax4T",
        "colab_type": "code",
        "colab": {}
      },
      "source": [
        "from google.colab import drive\n",
        "drive.mount('/content/drive', force_remount=True)"
      ],
      "execution_count": 0,
      "outputs": []
    },
    {
      "cell_type": "code",
      "metadata": {
        "id": "8IW10V6za_en",
        "colab_type": "code",
        "colab": {}
      },
      "source": [
        "import torch\n",
        "import torchvision\n",
        "import torchvision.transforms as transforms\n",
        "from torch.utils.data import DataLoader\n",
        "import torch.nn as nn\n",
        "import torch.nn.functional as F\n",
        "import torch.optim as optim\n",
        "import matplotlib.pyplot as plt\n",
        "import numpy as np"
      ],
      "execution_count": 0,
      "outputs": []
    },
    {
      "cell_type": "code",
      "metadata": {
        "id": "6SX3ukuEcYs8",
        "colab_type": "code",
        "colab": {}
      },
      "source": [
        "def computmean(dataset):\n",
        "    total_r = 0\n",
        "    total_g = 0\n",
        "    total_b = 0\n",
        "    for pic in dataset:\n",
        "        #print(len(pic[0][0,:,:]))\n",
        "        r = pic[0][0,:,:].mean()\n",
        "        g = pic[0][1,:,:].mean()\n",
        "        b = pic[0][2,:,:].mean()\n",
        "        total_r += r\n",
        "        total_g += g\n",
        "        total_b += b\n",
        "    total_r /= len(dataset)\n",
        "    total_g /= len(dataset)\n",
        "    total_b /= len(dataset)\n",
        "    print(\"r_mean:\",total_r,\"\\ng_mean:\",total_g,\"\\nb_mean:\",total_b)\n",
        "    return [total_r,total_g,total_b]\n",
        "\n",
        "def computstd(dataset):\n",
        "    total_r = 0\n",
        "    total_g = 0\n",
        "    total_b = 0\n",
        "    for pic in dataset:\n",
        "        #print(len(pic[0][0,:,:]))\n",
        "        r = pic[0][0,:,:].var()\n",
        "        g = pic[0][1,:,:].var()\n",
        "        b = pic[0][2,:,:].var()\n",
        "        total_r += np.sqrt(r)\n",
        "        total_g += np.sqrt(g)\n",
        "        total_b += np.sqrt(b)\n",
        "    total_r /= len(dataset)\n",
        "    total_g /= len(dataset)\n",
        "    total_b /= len(dataset)\n",
        "    print(\"r_std:\",total_r,\"\\ng_std:\",total_g,\"\\nb_std:\",total_b)\n",
        "    return [total_r,total_g,total_b]\n",
        "\n",
        "\n",
        "''' #showimage\n",
        "pic = transforms.ToPILImage()(dataset[0][0])\n",
        "#print(pic)\n",
        "pic.show()\n",
        "plt.imshow(pic)\n",
        "'''"
      ],
      "execution_count": 0,
      "outputs": []
    },
    {
      "cell_type": "code",
      "metadata": {
        "id": "cX3c0roorbaS",
        "colab_type": "code",
        "colab": {}
      },
      "source": [
        "transform0 = transforms.Compose(\n",
        "    [transforms.ToTensor(),\n",
        "    #transforms.Normalize((0.4914, 0.482, 0.446), (0.2023, 0.1994, 0.2010))\n",
        "    ])\n",
        "\n",
        "trainset = torchvision.datasets.CIFAR10(root='./data',train=True,transform=transform0,download=True)\n",
        "testset = torchvision.datasets.CIFAR10(root='./data',train=False,transform=transform0,download=True)\n",
        "\n",
        "train_mean = computmean(trainset)\n",
        "train_std = computstd(trainset)\n",
        "transform_train = transforms.Compose(\n",
        "    [transforms.ToTensor(),\n",
        "    transforms.Normalize((train_mean),(train_std))\n",
        "    ])\n",
        "\n",
        "test_mean = computmean(testset)\n",
        "test_std = computstd(testset)\n",
        "transform_test = transforms.Compose(\n",
        "    [transforms.ToTensor(),\n",
        "    transforms.Normalize((test_mean),(test_std))\n",
        "    ])\n",
        "\n",
        "trainset = torchvision.datasets.CIFAR10(root='./data',train=True,transform=transform_train,download=True)\n",
        "testset = torchvision.datasets.CIFAR10(root='./data',train=False,transform=transform_test,download=True)\n",
        "\n",
        "#print(trainset[0][0])\n"
      ],
      "execution_count": 0,
      "outputs": []
    },
    {
      "cell_type": "code",
      "metadata": {
        "id": "dF2bouMYcFHc",
        "colab_type": "code",
        "colab": {}
      },
      "source": [
        "pic = transforms.ToPILImage()(trainset[0][0])\n",
        "#print(pic)\n",
        "pic.show()\n",
        "plt.imshow(pic)"
      ],
      "execution_count": 0,
      "outputs": []
    }
  ]
}